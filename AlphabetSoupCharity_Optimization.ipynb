{
  "cells": [
    {
      "cell_type": "markdown",
      "metadata": {
        "id": "wNZZh1QTO9gK"
      },
      "source": [
        "## Preprocessing"
      ]
    },
    {
      "cell_type": "code",
      "execution_count": 1,
      "metadata": {
        "colab": {
          "base_uri": "https://localhost:8080/",
          "height": 240
        },
        "id": "tfHL7vWxO9gL",
        "outputId": "4b821acb-1d72-42ff-afe0-5d3b3f2bab3b"
      },
      "outputs": [
        {
          "name": "stderr",
          "output_type": "stream",
          "text": [
            "2024-03-06 13:26:56.468794: I tensorflow/core/platform/cpu_feature_guard.cc:182] This TensorFlow binary is optimized to use available CPU instructions in performance-critical operations.\n",
            "To enable the following instructions: AVX2 AVX512F AVX512_VNNI FMA, in other operations, rebuild TensorFlow with the appropriate compiler flags.\n"
          ]
        },
        {
          "data": {
            "text/html": [
              "<div>\n",
              "<style scoped>\n",
              "    .dataframe tbody tr th:only-of-type {\n",
              "        vertical-align: middle;\n",
              "    }\n",
              "\n",
              "    .dataframe tbody tr th {\n",
              "        vertical-align: top;\n",
              "    }\n",
              "\n",
              "    .dataframe thead th {\n",
              "        text-align: right;\n",
              "    }\n",
              "</style>\n",
              "<table border=\"1\" class=\"dataframe\">\n",
              "  <thead>\n",
              "    <tr style=\"text-align: right;\">\n",
              "      <th></th>\n",
              "      <th>EIN</th>\n",
              "      <th>NAME</th>\n",
              "      <th>APPLICATION_TYPE</th>\n",
              "      <th>AFFILIATION</th>\n",
              "      <th>CLASSIFICATION</th>\n",
              "      <th>USE_CASE</th>\n",
              "      <th>ORGANIZATION</th>\n",
              "      <th>STATUS</th>\n",
              "      <th>INCOME_AMT</th>\n",
              "      <th>SPECIAL_CONSIDERATIONS</th>\n",
              "      <th>ASK_AMT</th>\n",
              "      <th>IS_SUCCESSFUL</th>\n",
              "    </tr>\n",
              "  </thead>\n",
              "  <tbody>\n",
              "    <tr>\n",
              "      <th>0</th>\n",
              "      <td>10520599</td>\n",
              "      <td>BLUE KNIGHTS MOTORCYCLE CLUB</td>\n",
              "      <td>T10</td>\n",
              "      <td>Independent</td>\n",
              "      <td>C1000</td>\n",
              "      <td>ProductDev</td>\n",
              "      <td>Association</td>\n",
              "      <td>1</td>\n",
              "      <td>0</td>\n",
              "      <td>N</td>\n",
              "      <td>5000</td>\n",
              "      <td>1</td>\n",
              "    </tr>\n",
              "    <tr>\n",
              "      <th>1</th>\n",
              "      <td>10531628</td>\n",
              "      <td>AMERICAN CHESAPEAKE CLUB CHARITABLE TR</td>\n",
              "      <td>T3</td>\n",
              "      <td>Independent</td>\n",
              "      <td>C2000</td>\n",
              "      <td>Preservation</td>\n",
              "      <td>Co-operative</td>\n",
              "      <td>1</td>\n",
              "      <td>1-9999</td>\n",
              "      <td>N</td>\n",
              "      <td>108590</td>\n",
              "      <td>1</td>\n",
              "    </tr>\n",
              "    <tr>\n",
              "      <th>2</th>\n",
              "      <td>10547893</td>\n",
              "      <td>ST CLOUD PROFESSIONAL FIREFIGHTERS</td>\n",
              "      <td>T5</td>\n",
              "      <td>CompanySponsored</td>\n",
              "      <td>C3000</td>\n",
              "      <td>ProductDev</td>\n",
              "      <td>Association</td>\n",
              "      <td>1</td>\n",
              "      <td>0</td>\n",
              "      <td>N</td>\n",
              "      <td>5000</td>\n",
              "      <td>0</td>\n",
              "    </tr>\n",
              "    <tr>\n",
              "      <th>3</th>\n",
              "      <td>10553066</td>\n",
              "      <td>SOUTHSIDE ATHLETIC ASSOCIATION</td>\n",
              "      <td>T3</td>\n",
              "      <td>CompanySponsored</td>\n",
              "      <td>C2000</td>\n",
              "      <td>Preservation</td>\n",
              "      <td>Trust</td>\n",
              "      <td>1</td>\n",
              "      <td>10000-24999</td>\n",
              "      <td>N</td>\n",
              "      <td>6692</td>\n",
              "      <td>1</td>\n",
              "    </tr>\n",
              "    <tr>\n",
              "      <th>4</th>\n",
              "      <td>10556103</td>\n",
              "      <td>GENETIC RESEARCH INSTITUTE OF THE DESERT</td>\n",
              "      <td>T3</td>\n",
              "      <td>Independent</td>\n",
              "      <td>C1000</td>\n",
              "      <td>Heathcare</td>\n",
              "      <td>Trust</td>\n",
              "      <td>1</td>\n",
              "      <td>100000-499999</td>\n",
              "      <td>N</td>\n",
              "      <td>142590</td>\n",
              "      <td>1</td>\n",
              "    </tr>\n",
              "  </tbody>\n",
              "</table>\n",
              "</div>"
            ],
            "text/plain": [
              "        EIN                                      NAME APPLICATION_TYPE  \\\n",
              "0  10520599              BLUE KNIGHTS MOTORCYCLE CLUB              T10   \n",
              "1  10531628    AMERICAN CHESAPEAKE CLUB CHARITABLE TR               T3   \n",
              "2  10547893        ST CLOUD PROFESSIONAL FIREFIGHTERS               T5   \n",
              "3  10553066            SOUTHSIDE ATHLETIC ASSOCIATION               T3   \n",
              "4  10556103  GENETIC RESEARCH INSTITUTE OF THE DESERT               T3   \n",
              "\n",
              "        AFFILIATION CLASSIFICATION      USE_CASE  ORGANIZATION  STATUS  \\\n",
              "0       Independent          C1000    ProductDev   Association       1   \n",
              "1       Independent          C2000  Preservation  Co-operative       1   \n",
              "2  CompanySponsored          C3000    ProductDev   Association       1   \n",
              "3  CompanySponsored          C2000  Preservation         Trust       1   \n",
              "4       Independent          C1000     Heathcare         Trust       1   \n",
              "\n",
              "      INCOME_AMT SPECIAL_CONSIDERATIONS  ASK_AMT  IS_SUCCESSFUL  \n",
              "0              0                      N     5000              1  \n",
              "1         1-9999                      N   108590              1  \n",
              "2              0                      N     5000              0  \n",
              "3    10000-24999                      N     6692              1  \n",
              "4  100000-499999                      N   142590              1  "
            ]
          },
          "execution_count": 1,
          "metadata": {},
          "output_type": "execute_result"
        }
      ],
      "source": [
        "# Import our dependencies\n",
        "from sklearn.model_selection import train_test_split\n",
        "from sklearn.preprocessing import StandardScaler\n",
        "import pandas as pd\n",
        "import tensorflow as tf\n",
        "\n",
        "#  Import and read the charity_data.csv.\n",
        "import pandas as pd\n",
        "application_df = pd.read_csv(\"https://static.bc-edx.com/data/dl-1-2/m21/lms/starter/charity_data.csv\")\n",
        "application_df.head()"
      ]
    },
    {
      "cell_type": "code",
      "execution_count": 2,
      "metadata": {
        "colab": {
          "base_uri": "https://localhost:8080/",
          "height": 206
        },
        "id": "GXbo57GZO9gM",
        "outputId": "7da206ab-7609-4295-aa61-236dbc5e3e6a"
      },
      "outputs": [
        {
          "data": {
            "text/html": [
              "<div>\n",
              "<style scoped>\n",
              "    .dataframe tbody tr th:only-of-type {\n",
              "        vertical-align: middle;\n",
              "    }\n",
              "\n",
              "    .dataframe tbody tr th {\n",
              "        vertical-align: top;\n",
              "    }\n",
              "\n",
              "    .dataframe thead th {\n",
              "        text-align: right;\n",
              "    }\n",
              "</style>\n",
              "<table border=\"1\" class=\"dataframe\">\n",
              "  <thead>\n",
              "    <tr style=\"text-align: right;\">\n",
              "      <th></th>\n",
              "      <th>NAME</th>\n",
              "      <th>APPLICATION_TYPE</th>\n",
              "      <th>AFFILIATION</th>\n",
              "      <th>CLASSIFICATION</th>\n",
              "      <th>USE_CASE</th>\n",
              "      <th>ORGANIZATION</th>\n",
              "      <th>STATUS</th>\n",
              "      <th>INCOME_AMT</th>\n",
              "      <th>SPECIAL_CONSIDERATIONS</th>\n",
              "      <th>ASK_AMT</th>\n",
              "      <th>IS_SUCCESSFUL</th>\n",
              "    </tr>\n",
              "  </thead>\n",
              "  <tbody>\n",
              "    <tr>\n",
              "      <th>0</th>\n",
              "      <td>BLUE KNIGHTS MOTORCYCLE CLUB</td>\n",
              "      <td>T10</td>\n",
              "      <td>Independent</td>\n",
              "      <td>C1000</td>\n",
              "      <td>ProductDev</td>\n",
              "      <td>Association</td>\n",
              "      <td>1</td>\n",
              "      <td>0</td>\n",
              "      <td>N</td>\n",
              "      <td>5000</td>\n",
              "      <td>1</td>\n",
              "    </tr>\n",
              "    <tr>\n",
              "      <th>1</th>\n",
              "      <td>AMERICAN CHESAPEAKE CLUB CHARITABLE TR</td>\n",
              "      <td>T3</td>\n",
              "      <td>Independent</td>\n",
              "      <td>C2000</td>\n",
              "      <td>Preservation</td>\n",
              "      <td>Co-operative</td>\n",
              "      <td>1</td>\n",
              "      <td>1-9999</td>\n",
              "      <td>N</td>\n",
              "      <td>108590</td>\n",
              "      <td>1</td>\n",
              "    </tr>\n",
              "    <tr>\n",
              "      <th>2</th>\n",
              "      <td>ST CLOUD PROFESSIONAL FIREFIGHTERS</td>\n",
              "      <td>T5</td>\n",
              "      <td>CompanySponsored</td>\n",
              "      <td>C3000</td>\n",
              "      <td>ProductDev</td>\n",
              "      <td>Association</td>\n",
              "      <td>1</td>\n",
              "      <td>0</td>\n",
              "      <td>N</td>\n",
              "      <td>5000</td>\n",
              "      <td>0</td>\n",
              "    </tr>\n",
              "    <tr>\n",
              "      <th>3</th>\n",
              "      <td>SOUTHSIDE ATHLETIC ASSOCIATION</td>\n",
              "      <td>T3</td>\n",
              "      <td>CompanySponsored</td>\n",
              "      <td>C2000</td>\n",
              "      <td>Preservation</td>\n",
              "      <td>Trust</td>\n",
              "      <td>1</td>\n",
              "      <td>10000-24999</td>\n",
              "      <td>N</td>\n",
              "      <td>6692</td>\n",
              "      <td>1</td>\n",
              "    </tr>\n",
              "    <tr>\n",
              "      <th>4</th>\n",
              "      <td>GENETIC RESEARCH INSTITUTE OF THE DESERT</td>\n",
              "      <td>T3</td>\n",
              "      <td>Independent</td>\n",
              "      <td>C1000</td>\n",
              "      <td>Heathcare</td>\n",
              "      <td>Trust</td>\n",
              "      <td>1</td>\n",
              "      <td>100000-499999</td>\n",
              "      <td>N</td>\n",
              "      <td>142590</td>\n",
              "      <td>1</td>\n",
              "    </tr>\n",
              "  </tbody>\n",
              "</table>\n",
              "</div>"
            ],
            "text/plain": [
              "                                       NAME APPLICATION_TYPE  \\\n",
              "0              BLUE KNIGHTS MOTORCYCLE CLUB              T10   \n",
              "1    AMERICAN CHESAPEAKE CLUB CHARITABLE TR               T3   \n",
              "2        ST CLOUD PROFESSIONAL FIREFIGHTERS               T5   \n",
              "3            SOUTHSIDE ATHLETIC ASSOCIATION               T3   \n",
              "4  GENETIC RESEARCH INSTITUTE OF THE DESERT               T3   \n",
              "\n",
              "        AFFILIATION CLASSIFICATION      USE_CASE  ORGANIZATION  STATUS  \\\n",
              "0       Independent          C1000    ProductDev   Association       1   \n",
              "1       Independent          C2000  Preservation  Co-operative       1   \n",
              "2  CompanySponsored          C3000    ProductDev   Association       1   \n",
              "3  CompanySponsored          C2000  Preservation         Trust       1   \n",
              "4       Independent          C1000     Heathcare         Trust       1   \n",
              "\n",
              "      INCOME_AMT SPECIAL_CONSIDERATIONS  ASK_AMT  IS_SUCCESSFUL  \n",
              "0              0                      N     5000              1  \n",
              "1         1-9999                      N   108590              1  \n",
              "2              0                      N     5000              0  \n",
              "3    10000-24999                      N     6692              1  \n",
              "4  100000-499999                      N   142590              1  "
            ]
          },
          "execution_count": 2,
          "metadata": {},
          "output_type": "execute_result"
        }
      ],
      "source": [
        "# Drop the non-beneficial ID columns, 'EIN' and 'NAME'.\n",
        "application_df = application_df.drop(['EIN'], axis=1)\n",
        "application_df.head()"
      ]
    },
    {
      "cell_type": "code",
      "execution_count": 3,
      "metadata": {
        "colab": {
          "base_uri": "https://localhost:8080/"
        },
        "id": "W61OJblaHszz",
        "outputId": "0cad9eb0-e086-4941-a407-90af7de93aa1"
      },
      "outputs": [
        {
          "data": {
            "text/plain": [
              "NAME                      19568\n",
              "APPLICATION_TYPE             17\n",
              "AFFILIATION                   6\n",
              "CLASSIFICATION               71\n",
              "USE_CASE                      5\n",
              "ORGANIZATION                  4\n",
              "STATUS                        2\n",
              "INCOME_AMT                    9\n",
              "SPECIAL_CONSIDERATIONS        2\n",
              "ASK_AMT                    8747\n",
              "IS_SUCCESSFUL                 2\n",
              "dtype: int64"
            ]
          },
          "execution_count": 3,
          "metadata": {},
          "output_type": "execute_result"
        }
      ],
      "source": [
        "# Determine the number of unique values in each column.\n",
        "application_df.nunique()"
      ]
    },
    {
      "cell_type": "code",
      "execution_count": 4,
      "metadata": {
        "colab": {
          "base_uri": "https://localhost:8080/"
        },
        "id": "tHOHSUVfH4OO",
        "outputId": "12b37554-e55a-41d3-d6ef-ada1d9b8af4d"
      },
      "outputs": [
        {
          "data": {
            "text/plain": [
              "NAME\n",
              "PARENT BOOSTER USA INC                                                  1260\n",
              "TOPS CLUB INC                                                            765\n",
              "UNITED STATES BOWLING CONGRESS INC                                       700\n",
              "WASHINGTON STATE UNIVERSITY                                              492\n",
              "AMATEUR ATHLETIC UNION OF THE UNITED STATES INC                          408\n",
              "                                                                        ... \n",
              "ST LOUIS SLAM WOMENS FOOTBALL                                              1\n",
              "AIESEC ALUMNI IBEROAMERICA CORP                                            1\n",
              "WEALLBLEEDRED ORG INC                                                      1\n",
              "AMERICAN SOCIETY FOR STANDARDS IN MEDIUMSHIP & PSYCHICAL INVESTIGATI       1\n",
              "WATERHOUSE CHARITABLE TR                                                   1\n",
              "Name: count, Length: 19568, dtype: int64"
            ]
          },
          "execution_count": 4,
          "metadata": {},
          "output_type": "execute_result"
        }
      ],
      "source": [
        "# Look at NAME value counts for binning\n",
        "name_counts = application_df['NAME'].value_counts()\n",
        "name_counts"
      ]
    },
    {
      "cell_type": "code",
      "execution_count": 5,
      "metadata": {
        "colab": {
          "base_uri": "https://localhost:8080/"
        },
        "id": "cJkNJwV2I636",
        "outputId": "686c3d4e-6daf-4d01-d5a1-a4cb9c1beccb"
      },
      "outputs": [
        {
          "data": {
            "text/plain": [
              "NAME\n",
              "Other                                                                19803\n",
              "PARENT BOOSTER USA INC                                                1260\n",
              "TOPS CLUB INC                                                          765\n",
              "UNITED STATES BOWLING CONGRESS INC                                     700\n",
              "WASHINGTON STATE UNIVERSITY                                            492\n",
              "                                                                     ...  \n",
              "GUILDS OF THE SANTA FE OPERA INC                                         5\n",
              "FAMILY MOTOR COACH ASSOCIATION                                           5\n",
              "JAMESTOWN SOCIETY                                                        5\n",
              "MOST WORSHIPFUL PRINCE HALL GRAND LODGE OF FREE & ACCEPTED MASONS        5\n",
              "PTA HAWAII CONGRESS                                                      5\n",
              "Name: count, Length: 403, dtype: int64"
            ]
          },
          "execution_count": 5,
          "metadata": {},
          "output_type": "execute_result"
        }
      ],
      "source": [
        "# Choose a cutoff value and create a list of application types to be replaced\n",
        "# use the variable name `application_types_to_replace`\n",
        "names_to_replace = list(name_counts[name_counts<5].index)\n",
        "\n",
        "# Replace in dataframe\n",
        "for app in names_to_replace:\n",
        "    application_df['NAME'] = application_df['NAME'].replace(app,\"Other\")\n",
        "\n",
        "# Check to make sure binning was successful\n",
        "application_df['NAME'].value_counts()"
      ]
    },
    {
      "cell_type": "code",
      "execution_count": 6,
      "metadata": {},
      "outputs": [
        {
          "data": {
            "text/plain": [
              "APPLICATION_TYPE\n",
              "T3     27037\n",
              "T4      1542\n",
              "T6      1216\n",
              "T5      1173\n",
              "T19     1065\n",
              "T8       737\n",
              "T7       725\n",
              "T10      528\n",
              "T9       156\n",
              "T13       66\n",
              "T12       27\n",
              "T2        16\n",
              "T25        3\n",
              "T14        3\n",
              "T29        2\n",
              "T15        2\n",
              "T17        1\n",
              "Name: count, dtype: int64"
            ]
          },
          "execution_count": 6,
          "metadata": {},
          "output_type": "execute_result"
        }
      ],
      "source": [
        "# Look at APPLICATION_TYPE value counts for binning\n",
        "application_counts = application_df['APPLICATION_TYPE'].value_counts()\n",
        "application_counts"
      ]
    },
    {
      "cell_type": "code",
      "execution_count": 7,
      "metadata": {},
      "outputs": [
        {
          "data": {
            "text/plain": [
              "APPLICATION_TYPE\n",
              "T3       27037\n",
              "T4        1542\n",
              "T6        1216\n",
              "T5        1173\n",
              "T19       1065\n",
              "T8         737\n",
              "T7         725\n",
              "T10        528\n",
              "Other      276\n",
              "Name: count, dtype: int64"
            ]
          },
          "execution_count": 7,
          "metadata": {},
          "output_type": "execute_result"
        }
      ],
      "source": [
        "# Choose a cutoff value and create a list of application types to be replaced\n",
        "# use the variable name `application_types_to_replace`\n",
        "application_types_to_replace = list(application_counts[application_counts<500].index)\n",
        "\n",
        "# Replace in dataframe\n",
        "for app in application_types_to_replace:\n",
        "    application_df['APPLICATION_TYPE'] = application_df['APPLICATION_TYPE'].replace(app,\"Other\")\n",
        "\n",
        "# Check to make sure binning was successful\n",
        "application_df['APPLICATION_TYPE'].value_counts()"
      ]
    },
    {
      "cell_type": "code",
      "execution_count": 8,
      "metadata": {
        "colab": {
          "base_uri": "https://localhost:8080/"
        },
        "id": "xJu2HZMCJN9b",
        "outputId": "080d3cec-3728-450a-cb87-fb2e464376ba"
      },
      "outputs": [
        {
          "data": {
            "text/plain": [
              "CLASSIFICATION\n",
              "C1000    17326\n",
              "C2000     6074\n",
              "C1200     4837\n",
              "C3000     1918\n",
              "C2100     1883\n",
              "         ...  \n",
              "C4120        1\n",
              "C8210        1\n",
              "C2561        1\n",
              "C4500        1\n",
              "C2150        1\n",
              "Name: count, Length: 71, dtype: int64"
            ]
          },
          "execution_count": 8,
          "metadata": {},
          "output_type": "execute_result"
        }
      ],
      "source": [
        "# Look at CLASSIFICATION value counts for binning\n",
        "classification_counts = application_df['CLASSIFICATION'].value_counts()\n",
        "classification_counts"
      ]
    },
    {
      "cell_type": "code",
      "execution_count": 9,
      "metadata": {
        "colab": {
          "base_uri": "https://localhost:8080/"
        },
        "id": "tBlgb1fbJdsM",
        "outputId": "7162477d-ddc0-4aca-e39c-b7f76020826b"
      },
      "outputs": [
        {
          "data": {
            "text/plain": [
              "CLASSIFICATION\n",
              "C1000    17326\n",
              "C2000     6074\n",
              "C1200     4837\n",
              "C3000     1918\n",
              "C2100     1883\n",
              "C7000      777\n",
              "C1700      287\n",
              "C4000      194\n",
              "C5000      116\n",
              "C1270      114\n",
              "C2700      104\n",
              "C2800       95\n",
              "C7100       75\n",
              "C1300       58\n",
              "C1280       50\n",
              "C1230       36\n",
              "C1400       34\n",
              "C7200       32\n",
              "C2300       32\n",
              "C1240       30\n",
              "C8000       20\n",
              "C7120       18\n",
              "C1500       16\n",
              "C1800       15\n",
              "C6000       15\n",
              "C1250       14\n",
              "C8200       11\n",
              "C1238       10\n",
              "C1278       10\n",
              "C1235        9\n",
              "C1237        9\n",
              "C7210        7\n",
              "C2400        6\n",
              "C1720        6\n",
              "C4100        6\n",
              "C1257        5\n",
              "C1600        5\n",
              "C1260        3\n",
              "C2710        3\n",
              "C0           3\n",
              "C3200        2\n",
              "C1234        2\n",
              "C1246        2\n",
              "C1267        2\n",
              "C1256        2\n",
              "Name: count, dtype: int64"
            ]
          },
          "execution_count": 9,
          "metadata": {},
          "output_type": "execute_result"
        }
      ],
      "source": [
        "# You may find it helpful to look at CLASSIFICATION value counts >1\n",
        "class_gt_1 = classification_counts.loc[classification_counts>1]\n",
        "class_gt_1"
      ]
    },
    {
      "cell_type": "code",
      "execution_count": 10,
      "metadata": {
        "colab": {
          "base_uri": "https://localhost:8080/"
        },
        "id": "-oKVMl27KeK5",
        "outputId": "8a753e13-c146-46d7-8814-fc544877bd73"
      },
      "outputs": [
        {
          "data": {
            "text/plain": [
              "CLASSIFICATION\n",
              "C1000    17326\n",
              "C2000     6074\n",
              "C1200     4837\n",
              "C3000     1918\n",
              "C2100     1883\n",
              "Other     1484\n",
              "C7000      777\n",
              "Name: count, dtype: int64"
            ]
          },
          "execution_count": 10,
          "metadata": {},
          "output_type": "execute_result"
        }
      ],
      "source": [
        "# Choose a cutoff value and create a list of classifications to be replaced\n",
        "# use the variable name `classifications_to_replace`\n",
        "classifications_to_replace = list(classification_counts[classification_counts<500].index)\n",
        "\n",
        "# Replace in dataframe\n",
        "for cls in classifications_to_replace:\n",
        "    application_df['CLASSIFICATION'] = application_df['CLASSIFICATION'].replace(cls,\"Other\")\n",
        "\n",
        "# Check to make sure binning was successful\n",
        "application_df['CLASSIFICATION'].value_counts()"
      ]
    },
    {
      "cell_type": "code",
      "execution_count": 11,
      "metadata": {
        "colab": {
          "base_uri": "https://localhost:8080/",
          "height": 411
        },
        "id": "drLQYchpO9gO",
        "outputId": "503fcddd-329c-4cd3-d080-3b6072a10602"
      },
      "outputs": [
        {
          "data": {
            "text/html": [
              "<div>\n",
              "<style scoped>\n",
              "    .dataframe tbody tr th:only-of-type {\n",
              "        vertical-align: middle;\n",
              "    }\n",
              "\n",
              "    .dataframe tbody tr th {\n",
              "        vertical-align: top;\n",
              "    }\n",
              "\n",
              "    .dataframe thead th {\n",
              "        text-align: right;\n",
              "    }\n",
              "</style>\n",
              "<table border=\"1\" class=\"dataframe\">\n",
              "  <thead>\n",
              "    <tr style=\"text-align: right;\">\n",
              "      <th></th>\n",
              "      <th>STATUS</th>\n",
              "      <th>ASK_AMT</th>\n",
              "      <th>IS_SUCCESSFUL</th>\n",
              "      <th>NAME_AACE INTERNATIONAL</th>\n",
              "      <th>NAME_ACE MENTOR PROGRAM OF AMERICA INC</th>\n",
              "      <th>NAME_ACTS MINISTRY</th>\n",
              "      <th>NAME_ACTS MISSIONS</th>\n",
              "      <th>NAME_AFRICAN-AMERICAN POSTAL LEAGUE UNITED FOR SUCCESS A-PLUS</th>\n",
              "      <th>NAME_AIR FORCE ASSOCIATION</th>\n",
              "      <th>NAME_ALABAMA FEDERATION OF WOMENS CLUBS</th>\n",
              "      <th>...</th>\n",
              "      <th>INCOME_AMT_1-9999</th>\n",
              "      <th>INCOME_AMT_10000-24999</th>\n",
              "      <th>INCOME_AMT_100000-499999</th>\n",
              "      <th>INCOME_AMT_10M-50M</th>\n",
              "      <th>INCOME_AMT_1M-5M</th>\n",
              "      <th>INCOME_AMT_25000-99999</th>\n",
              "      <th>INCOME_AMT_50M+</th>\n",
              "      <th>INCOME_AMT_5M-10M</th>\n",
              "      <th>SPECIAL_CONSIDERATIONS_N</th>\n",
              "      <th>SPECIAL_CONSIDERATIONS_Y</th>\n",
              "    </tr>\n",
              "  </thead>\n",
              "  <tbody>\n",
              "    <tr>\n",
              "      <th>0</th>\n",
              "      <td>1</td>\n",
              "      <td>5000</td>\n",
              "      <td>1</td>\n",
              "      <td>False</td>\n",
              "      <td>False</td>\n",
              "      <td>False</td>\n",
              "      <td>False</td>\n",
              "      <td>False</td>\n",
              "      <td>False</td>\n",
              "      <td>False</td>\n",
              "      <td>...</td>\n",
              "      <td>False</td>\n",
              "      <td>False</td>\n",
              "      <td>False</td>\n",
              "      <td>False</td>\n",
              "      <td>False</td>\n",
              "      <td>False</td>\n",
              "      <td>False</td>\n",
              "      <td>False</td>\n",
              "      <td>True</td>\n",
              "      <td>False</td>\n",
              "    </tr>\n",
              "    <tr>\n",
              "      <th>1</th>\n",
              "      <td>1</td>\n",
              "      <td>108590</td>\n",
              "      <td>1</td>\n",
              "      <td>False</td>\n",
              "      <td>False</td>\n",
              "      <td>False</td>\n",
              "      <td>False</td>\n",
              "      <td>False</td>\n",
              "      <td>False</td>\n",
              "      <td>False</td>\n",
              "      <td>...</td>\n",
              "      <td>True</td>\n",
              "      <td>False</td>\n",
              "      <td>False</td>\n",
              "      <td>False</td>\n",
              "      <td>False</td>\n",
              "      <td>False</td>\n",
              "      <td>False</td>\n",
              "      <td>False</td>\n",
              "      <td>True</td>\n",
              "      <td>False</td>\n",
              "    </tr>\n",
              "    <tr>\n",
              "      <th>2</th>\n",
              "      <td>1</td>\n",
              "      <td>5000</td>\n",
              "      <td>0</td>\n",
              "      <td>False</td>\n",
              "      <td>False</td>\n",
              "      <td>False</td>\n",
              "      <td>False</td>\n",
              "      <td>False</td>\n",
              "      <td>False</td>\n",
              "      <td>False</td>\n",
              "      <td>...</td>\n",
              "      <td>False</td>\n",
              "      <td>False</td>\n",
              "      <td>False</td>\n",
              "      <td>False</td>\n",
              "      <td>False</td>\n",
              "      <td>False</td>\n",
              "      <td>False</td>\n",
              "      <td>False</td>\n",
              "      <td>True</td>\n",
              "      <td>False</td>\n",
              "    </tr>\n",
              "    <tr>\n",
              "      <th>3</th>\n",
              "      <td>1</td>\n",
              "      <td>6692</td>\n",
              "      <td>1</td>\n",
              "      <td>False</td>\n",
              "      <td>False</td>\n",
              "      <td>False</td>\n",
              "      <td>False</td>\n",
              "      <td>False</td>\n",
              "      <td>False</td>\n",
              "      <td>False</td>\n",
              "      <td>...</td>\n",
              "      <td>False</td>\n",
              "      <td>True</td>\n",
              "      <td>False</td>\n",
              "      <td>False</td>\n",
              "      <td>False</td>\n",
              "      <td>False</td>\n",
              "      <td>False</td>\n",
              "      <td>False</td>\n",
              "      <td>True</td>\n",
              "      <td>False</td>\n",
              "    </tr>\n",
              "    <tr>\n",
              "      <th>4</th>\n",
              "      <td>1</td>\n",
              "      <td>142590</td>\n",
              "      <td>1</td>\n",
              "      <td>False</td>\n",
              "      <td>False</td>\n",
              "      <td>False</td>\n",
              "      <td>False</td>\n",
              "      <td>False</td>\n",
              "      <td>False</td>\n",
              "      <td>False</td>\n",
              "      <td>...</td>\n",
              "      <td>False</td>\n",
              "      <td>False</td>\n",
              "      <td>True</td>\n",
              "      <td>False</td>\n",
              "      <td>False</td>\n",
              "      <td>False</td>\n",
              "      <td>False</td>\n",
              "      <td>False</td>\n",
              "      <td>True</td>\n",
              "      <td>False</td>\n",
              "    </tr>\n",
              "  </tbody>\n",
              "</table>\n",
              "<p>5 rows × 448 columns</p>\n",
              "</div>"
            ],
            "text/plain": [
              "   STATUS  ASK_AMT  IS_SUCCESSFUL  NAME_AACE INTERNATIONAL  \\\n",
              "0       1     5000              1                    False   \n",
              "1       1   108590              1                    False   \n",
              "2       1     5000              0                    False   \n",
              "3       1     6692              1                    False   \n",
              "4       1   142590              1                    False   \n",
              "\n",
              "   NAME_ACE MENTOR PROGRAM OF AMERICA INC  NAME_ACTS MINISTRY  \\\n",
              "0                                   False               False   \n",
              "1                                   False               False   \n",
              "2                                   False               False   \n",
              "3                                   False               False   \n",
              "4                                   False               False   \n",
              "\n",
              "   NAME_ACTS MISSIONS  \\\n",
              "0               False   \n",
              "1               False   \n",
              "2               False   \n",
              "3               False   \n",
              "4               False   \n",
              "\n",
              "   NAME_AFRICAN-AMERICAN POSTAL LEAGUE UNITED FOR SUCCESS A-PLUS  \\\n",
              "0                                              False               \n",
              "1                                              False               \n",
              "2                                              False               \n",
              "3                                              False               \n",
              "4                                              False               \n",
              "\n",
              "   NAME_AIR FORCE ASSOCIATION  NAME_ALABAMA FEDERATION OF WOMENS CLUBS  ...  \\\n",
              "0                       False                                    False  ...   \n",
              "1                       False                                    False  ...   \n",
              "2                       False                                    False  ...   \n",
              "3                       False                                    False  ...   \n",
              "4                       False                                    False  ...   \n",
              "\n",
              "   INCOME_AMT_1-9999  INCOME_AMT_10000-24999  INCOME_AMT_100000-499999  \\\n",
              "0              False                   False                     False   \n",
              "1               True                   False                     False   \n",
              "2              False                   False                     False   \n",
              "3              False                    True                     False   \n",
              "4              False                   False                      True   \n",
              "\n",
              "   INCOME_AMT_10M-50M  INCOME_AMT_1M-5M  INCOME_AMT_25000-99999  \\\n",
              "0               False             False                   False   \n",
              "1               False             False                   False   \n",
              "2               False             False                   False   \n",
              "3               False             False                   False   \n",
              "4               False             False                   False   \n",
              "\n",
              "   INCOME_AMT_50M+  INCOME_AMT_5M-10M  SPECIAL_CONSIDERATIONS_N  \\\n",
              "0            False              False                      True   \n",
              "1            False              False                      True   \n",
              "2            False              False                      True   \n",
              "3            False              False                      True   \n",
              "4            False              False                      True   \n",
              "\n",
              "   SPECIAL_CONSIDERATIONS_Y  \n",
              "0                     False  \n",
              "1                     False  \n",
              "2                     False  \n",
              "3                     False  \n",
              "4                     False  \n",
              "\n",
              "[5 rows x 448 columns]"
            ]
          },
          "execution_count": 11,
          "metadata": {},
          "output_type": "execute_result"
        }
      ],
      "source": [
        "# Convert categorical data to numeric with `pd.get_dummies`\n",
        "dummies_df = pd.get_dummies(application_df)\n",
        "dummies_df.head()"
      ]
    },
    {
      "cell_type": "code",
      "execution_count": 12,
      "metadata": {
        "id": "yOrodTx-O9gP"
      },
      "outputs": [],
      "source": [
        "# Split our preprocessed data into our features and target arrays\n",
        "y = dummies_df['IS_SUCCESSFUL'].values\n",
        "X = dummies_df.drop(columns=['IS_SUCCESSFUL']).values\n",
        "\n",
        "# Split the preprocessed data into a training and testing dataset\n",
        "X_train, X_test, y_train, y_test = train_test_split(X, y, random_state=78)"
      ]
    },
    {
      "cell_type": "code",
      "execution_count": 13,
      "metadata": {
        "colab": {
          "base_uri": "https://localhost:8080/",
          "height": 211
        },
        "id": "zNDZK2BPO9gP",
        "outputId": "91bbe066-6d8e-40fc-bc2f-3e7445523ac0"
      },
      "outputs": [],
      "source": [
        "# Create a StandardScaler instances\n",
        "scaler = StandardScaler()\n",
        "\n",
        "# Fit the StandardScaler\n",
        "X_scaler = scaler.fit(X_train)\n",
        "\n",
        "# Scale the data\n",
        "X_train_scaled = X_scaler.transform(X_train)\n",
        "X_test_scaled = X_scaler.transform(X_test)"
      ]
    },
    {
      "cell_type": "markdown",
      "metadata": {
        "id": "UOLG8uyzO9gP"
      },
      "source": [
        "## Compile, Train and Evaluate the Model"
      ]
    },
    {
      "cell_type": "code",
      "execution_count": 14,
      "metadata": {
        "colab": {
          "base_uri": "https://localhost:8080/"
        },
        "id": "XnHTZskgO61A",
        "outputId": "b64b1eff-7e2a-497c-a164-2e8a888fe5a5"
      },
      "outputs": [
        {
          "name": "stdout",
          "output_type": "stream",
          "text": [
            "Model: \"sequential\"\n",
            "_________________________________________________________________\n",
            " Layer (type)                Output Shape              Param #   \n",
            "=================================================================\n",
            " dense (Dense)               (None, 8)                 3584      \n",
            "                                                                 \n",
            " dense_1 (Dense)             (None, 15)                135       \n",
            "                                                                 \n",
            " dense_2 (Dense)             (None, 1)                 16        \n",
            "                                                                 \n",
            "=================================================================\n",
            "Total params: 3735 (14.59 KB)\n",
            "Trainable params: 3735 (14.59 KB)\n",
            "Non-trainable params: 0 (0.00 Byte)\n",
            "_________________________________________________________________\n"
          ]
        }
      ],
      "source": [
        "# Define the model - deep neural net, i.e., the number of input features and hidden nodes for each layer.\n",
        "# increase units to 8, 14, 1 \n",
        "\n",
        "inputs = len(X_train_scaled[0])\n",
        "\n",
        "nn = tf.keras.models.Sequential()\n",
        "\n",
        "# First hidden layer\n",
        "nn.add(tf.keras.layers.Dense(units=8, activation=\"relu\", input_dim=inputs))\n",
        "\n",
        "# Second hidden layer\n",
        "nn.add(tf.keras.layers.Dense(units=15, activation=\"relu\"))\n",
        "\n",
        "# Output layer\n",
        "nn.add(tf.keras.layers.Dense(units=1, activation=\"sigmoid\"))\n",
        "\n",
        "# Check the structure of the model\n",
        "nn.summary()"
      ]
    },
    {
      "cell_type": "code",
      "execution_count": 15,
      "metadata": {
        "id": "5Pf-drbxPKpN"
      },
      "outputs": [],
      "source": [
        "# Compile the model\n",
        "nn.compile(loss=\"binary_crossentropy\", optimizer=\"adam\", metrics=[\"accuracy\"])"
      ]
    },
    {
      "cell_type": "code",
      "execution_count": 16,
      "metadata": {
        "colab": {
          "base_uri": "https://localhost:8080/"
        },
        "id": "k_8X18aVPVhf",
        "outputId": "1a01c4c7-7402-411b-ebc8-6b5610bcd99f"
      },
      "outputs": [
        {
          "name": "stdout",
          "output_type": "stream",
          "text": [
            "Epoch 1/110\n",
            "804/804 [==============================] - 6s 4ms/step - loss: 0.5782 - accuracy: 0.7337\n",
            "Epoch 2/110\n",
            "804/804 [==============================] - 3s 3ms/step - loss: 0.4490 - accuracy: 0.7889\n",
            "Epoch 3/110\n",
            "804/804 [==============================] - 3s 4ms/step - loss: 0.4371 - accuracy: 0.7918\n",
            "Epoch 4/110\n",
            "804/804 [==============================] - 2s 3ms/step - loss: 0.4324 - accuracy: 0.7939\n",
            "Epoch 5/110\n",
            "804/804 [==============================] - 3s 4ms/step - loss: 0.4295 - accuracy: 0.7947\n",
            "Epoch 6/110\n",
            "804/804 [==============================] - 2s 3ms/step - loss: 0.4275 - accuracy: 0.7957\n",
            "Epoch 7/110\n",
            "804/804 [==============================] - 3s 3ms/step - loss: 0.4251 - accuracy: 0.7966\n",
            "Epoch 8/110\n",
            "804/804 [==============================] - 3s 3ms/step - loss: 0.4243 - accuracy: 0.7966\n",
            "Epoch 9/110\n",
            "804/804 [==============================] - 3s 3ms/step - loss: 0.4228 - accuracy: 0.7967\n",
            "Epoch 10/110\n",
            "804/804 [==============================] - 2s 3ms/step - loss: 0.4217 - accuracy: 0.7973\n",
            "Epoch 11/110\n",
            "804/804 [==============================] - 3s 4ms/step - loss: 0.4219 - accuracy: 0.7982\n",
            "Epoch 12/110\n",
            "804/804 [==============================] - 4s 5ms/step - loss: 0.4206 - accuracy: 0.7972\n",
            "Epoch 13/110\n",
            "804/804 [==============================] - 3s 3ms/step - loss: 0.4199 - accuracy: 0.7989\n",
            "Epoch 14/110\n",
            "804/804 [==============================] - 3s 3ms/step - loss: 0.4198 - accuracy: 0.7980\n",
            "Epoch 15/110\n",
            "804/804 [==============================] - 3s 3ms/step - loss: 0.4189 - accuracy: 0.7989\n",
            "Epoch 16/110\n",
            "804/804 [==============================] - 2s 3ms/step - loss: 0.4186 - accuracy: 0.7999\n",
            "Epoch 17/110\n",
            "804/804 [==============================] - 3s 3ms/step - loss: 0.4183 - accuracy: 0.7976\n",
            "Epoch 18/110\n",
            "804/804 [==============================] - 2s 3ms/step - loss: 0.4183 - accuracy: 0.7995\n",
            "Epoch 19/110\n",
            "804/804 [==============================] - 2s 3ms/step - loss: 0.4176 - accuracy: 0.7998\n",
            "Epoch 20/110\n",
            "804/804 [==============================] - 2s 3ms/step - loss: 0.4176 - accuracy: 0.7998\n",
            "Epoch 21/110\n",
            "804/804 [==============================] - 2s 3ms/step - loss: 0.4171 - accuracy: 0.8002\n",
            "Epoch 22/110\n",
            "804/804 [==============================] - 2s 3ms/step - loss: 0.4171 - accuracy: 0.8003\n",
            "Epoch 23/110\n",
            "804/804 [==============================] - 2s 3ms/step - loss: 0.4169 - accuracy: 0.8000\n",
            "Epoch 24/110\n",
            "804/804 [==============================] - 4s 5ms/step - loss: 0.4163 - accuracy: 0.8007\n",
            "Epoch 25/110\n",
            "804/804 [==============================] - 2s 3ms/step - loss: 0.4161 - accuracy: 0.8000\n",
            "Epoch 26/110\n",
            "804/804 [==============================] - 3s 3ms/step - loss: 0.4153 - accuracy: 0.8010\n",
            "Epoch 27/110\n",
            "804/804 [==============================] - 2s 3ms/step - loss: 0.4156 - accuracy: 0.8008\n",
            "Epoch 28/110\n",
            "804/804 [==============================] - 3s 3ms/step - loss: 0.4151 - accuracy: 0.8006\n",
            "Epoch 29/110\n",
            "804/804 [==============================] - 2s 3ms/step - loss: 0.4151 - accuracy: 0.8004\n",
            "Epoch 30/110\n",
            "804/804 [==============================] - 2s 3ms/step - loss: 0.4145 - accuracy: 0.8010\n",
            "Epoch 31/110\n",
            "804/804 [==============================] - 3s 3ms/step - loss: 0.4145 - accuracy: 0.8008\n",
            "Epoch 32/110\n",
            "804/804 [==============================] - 2s 3ms/step - loss: 0.4146 - accuracy: 0.8019\n",
            "Epoch 33/110\n",
            "804/804 [==============================] - 5s 6ms/step - loss: 0.4146 - accuracy: 0.8014\n",
            "Epoch 34/110\n",
            "804/804 [==============================] - 2s 3ms/step - loss: 0.4142 - accuracy: 0.8022\n",
            "Epoch 35/110\n",
            "804/804 [==============================] - 2s 3ms/step - loss: 0.4144 - accuracy: 0.8024\n",
            "Epoch 36/110\n",
            "804/804 [==============================] - 3s 3ms/step - loss: 0.4137 - accuracy: 0.8019\n",
            "Epoch 37/110\n",
            "804/804 [==============================] - 4s 4ms/step - loss: 0.4135 - accuracy: 0.8015\n",
            "Epoch 38/110\n",
            "804/804 [==============================] - 3s 4ms/step - loss: 0.4134 - accuracy: 0.8019\n",
            "Epoch 39/110\n",
            "804/804 [==============================] - 2s 3ms/step - loss: 0.4138 - accuracy: 0.8022\n",
            "Epoch 40/110\n",
            "804/804 [==============================] - 2s 3ms/step - loss: 0.4132 - accuracy: 0.8019\n",
            "Epoch 41/110\n",
            "804/804 [==============================] - 2s 3ms/step - loss: 0.4133 - accuracy: 0.8026\n",
            "Epoch 42/110\n",
            "804/804 [==============================] - 2s 3ms/step - loss: 0.4137 - accuracy: 0.8021\n",
            "Epoch 43/110\n",
            "804/804 [==============================] - 3s 4ms/step - loss: 0.4131 - accuracy: 0.8023\n",
            "Epoch 44/110\n",
            "804/804 [==============================] - 2s 3ms/step - loss: 0.4129 - accuracy: 0.8019\n",
            "Epoch 45/110\n",
            "804/804 [==============================] - 3s 3ms/step - loss: 0.4132 - accuracy: 0.8023\n",
            "Epoch 46/110\n",
            "804/804 [==============================] - 2s 3ms/step - loss: 0.4127 - accuracy: 0.8031\n",
            "Epoch 47/110\n",
            "804/804 [==============================] - 3s 4ms/step - loss: 0.4128 - accuracy: 0.8030\n",
            "Epoch 48/110\n",
            "804/804 [==============================] - 2s 3ms/step - loss: 0.4124 - accuracy: 0.8025\n",
            "Epoch 49/110\n",
            "804/804 [==============================] - 3s 3ms/step - loss: 0.4128 - accuracy: 0.8022\n",
            "Epoch 50/110\n",
            "804/804 [==============================] - 2s 3ms/step - loss: 0.4122 - accuracy: 0.8022\n",
            "Epoch 51/110\n",
            "804/804 [==============================] - 2s 3ms/step - loss: 0.4124 - accuracy: 0.8022\n",
            "Epoch 52/110\n",
            "804/804 [==============================] - 2s 3ms/step - loss: 0.4118 - accuracy: 0.8022\n",
            "Epoch 53/110\n",
            "804/804 [==============================] - 2s 3ms/step - loss: 0.4120 - accuracy: 0.8028\n",
            "Epoch 54/110\n",
            "804/804 [==============================] - 2s 3ms/step - loss: 0.4120 - accuracy: 0.8028\n",
            "Epoch 55/110\n",
            "804/804 [==============================] - 3s 3ms/step - loss: 0.4115 - accuracy: 0.8031\n",
            "Epoch 56/110\n",
            "804/804 [==============================] - 3s 3ms/step - loss: 0.4114 - accuracy: 0.8033\n",
            "Epoch 57/110\n",
            "804/804 [==============================] - 3s 3ms/step - loss: 0.4114 - accuracy: 0.8033\n",
            "Epoch 58/110\n",
            "804/804 [==============================] - 2s 3ms/step - loss: 0.4118 - accuracy: 0.8038\n",
            "Epoch 59/110\n",
            "804/804 [==============================] - 2s 3ms/step - loss: 0.4114 - accuracy: 0.8036\n",
            "Epoch 60/110\n",
            "804/804 [==============================] - 2s 3ms/step - loss: 0.4111 - accuracy: 0.8036\n",
            "Epoch 61/110\n",
            "804/804 [==============================] - 2s 3ms/step - loss: 0.4112 - accuracy: 0.8031\n",
            "Epoch 62/110\n",
            "804/804 [==============================] - 3s 4ms/step - loss: 0.4109 - accuracy: 0.8029\n",
            "Epoch 63/110\n",
            "804/804 [==============================] - 6s 8ms/step - loss: 0.4108 - accuracy: 0.8027\n",
            "Epoch 64/110\n",
            "804/804 [==============================] - 4s 5ms/step - loss: 0.4109 - accuracy: 0.8039\n",
            "Epoch 65/110\n",
            "804/804 [==============================] - 3s 4ms/step - loss: 0.4109 - accuracy: 0.8028\n",
            "Epoch 66/110\n",
            "804/804 [==============================] - 5s 6ms/step - loss: 0.4105 - accuracy: 0.8037\n",
            "Epoch 67/110\n",
            "804/804 [==============================] - 3s 3ms/step - loss: 0.4110 - accuracy: 0.8022\n",
            "Epoch 68/110\n",
            "804/804 [==============================] - 3s 3ms/step - loss: 0.4106 - accuracy: 0.8031\n",
            "Epoch 69/110\n",
            "804/804 [==============================] - 2s 3ms/step - loss: 0.4105 - accuracy: 0.8037\n",
            "Epoch 70/110\n",
            "804/804 [==============================] - 2s 3ms/step - loss: 0.4103 - accuracy: 0.8036\n",
            "Epoch 71/110\n",
            "804/804 [==============================] - 3s 3ms/step - loss: 0.4103 - accuracy: 0.8049\n",
            "Epoch 72/110\n",
            "804/804 [==============================] - 2s 3ms/step - loss: 0.4105 - accuracy: 0.8030\n",
            "Epoch 73/110\n",
            "804/804 [==============================] - 2s 3ms/step - loss: 0.4109 - accuracy: 0.8031\n",
            "Epoch 74/110\n",
            "804/804 [==============================] - 2s 3ms/step - loss: 0.4104 - accuracy: 0.8032\n",
            "Epoch 75/110\n",
            "804/804 [==============================] - 2s 3ms/step - loss: 0.4103 - accuracy: 0.8033\n",
            "Epoch 76/110\n",
            "804/804 [==============================] - 2s 3ms/step - loss: 0.4105 - accuracy: 0.8032\n",
            "Epoch 77/110\n",
            "804/804 [==============================] - 2s 3ms/step - loss: 0.4101 - accuracy: 0.8026\n",
            "Epoch 78/110\n",
            "804/804 [==============================] - 2s 3ms/step - loss: 0.4102 - accuracy: 0.8041\n",
            "Epoch 79/110\n",
            "804/804 [==============================] - 2s 3ms/step - loss: 0.4098 - accuracy: 0.8042\n",
            "Epoch 80/110\n",
            "804/804 [==============================] - 2s 3ms/step - loss: 0.4094 - accuracy: 0.8036\n",
            "Epoch 81/110\n",
            "804/804 [==============================] - 2s 3ms/step - loss: 0.4097 - accuracy: 0.8039\n",
            "Epoch 82/110\n",
            "804/804 [==============================] - 6s 7ms/step - loss: 0.4104 - accuracy: 0.8029\n",
            "Epoch 83/110\n",
            "804/804 [==============================] - 4s 5ms/step - loss: 0.4100 - accuracy: 0.8041\n",
            "Epoch 84/110\n",
            "804/804 [==============================] - 5s 6ms/step - loss: 0.4095 - accuracy: 0.8043\n",
            "Epoch 85/110\n",
            "804/804 [==============================] - 4s 5ms/step - loss: 0.4097 - accuracy: 0.8043\n",
            "Epoch 86/110\n",
            "804/804 [==============================] - 4s 5ms/step - loss: 0.4097 - accuracy: 0.8031\n",
            "Epoch 87/110\n",
            "804/804 [==============================] - 4s 4ms/step - loss: 0.4096 - accuracy: 0.8045\n",
            "Epoch 88/110\n",
            "804/804 [==============================] - 3s 4ms/step - loss: 0.4094 - accuracy: 0.8042\n",
            "Epoch 89/110\n",
            "804/804 [==============================] - 3s 3ms/step - loss: 0.4097 - accuracy: 0.8045\n",
            "Epoch 90/110\n",
            "804/804 [==============================] - 3s 3ms/step - loss: 0.4095 - accuracy: 0.8043\n",
            "Epoch 91/110\n",
            "804/804 [==============================] - 3s 4ms/step - loss: 0.4091 - accuracy: 0.8040\n",
            "Epoch 92/110\n",
            "804/804 [==============================] - 4s 4ms/step - loss: 0.4093 - accuracy: 0.8045\n",
            "Epoch 93/110\n",
            "804/804 [==============================] - 3s 4ms/step - loss: 0.4086 - accuracy: 0.8050\n",
            "Epoch 94/110\n",
            "804/804 [==============================] - 4s 5ms/step - loss: 0.4099 - accuracy: 0.8042\n",
            "Epoch 95/110\n",
            "804/804 [==============================] - 3s 3ms/step - loss: 0.4087 - accuracy: 0.8048\n",
            "Epoch 96/110\n",
            "804/804 [==============================] - 2s 3ms/step - loss: 0.4089 - accuracy: 0.8039\n",
            "Epoch 97/110\n",
            "804/804 [==============================] - 3s 3ms/step - loss: 0.4095 - accuracy: 0.8034\n",
            "Epoch 98/110\n",
            "804/804 [==============================] - 2s 3ms/step - loss: 0.4088 - accuracy: 0.8042\n",
            "Epoch 99/110\n",
            "804/804 [==============================] - 2s 3ms/step - loss: 0.4087 - accuracy: 0.8050\n",
            "Epoch 100/110\n",
            "804/804 [==============================] - 2s 3ms/step - loss: 0.4087 - accuracy: 0.8047\n",
            "Epoch 101/110\n",
            "804/804 [==============================] - 2s 3ms/step - loss: 0.4085 - accuracy: 0.8045\n",
            "Epoch 102/110\n",
            "804/804 [==============================] - 2s 3ms/step - loss: 0.4088 - accuracy: 0.8044\n",
            "Epoch 103/110\n",
            "804/804 [==============================] - 2s 3ms/step - loss: 0.4083 - accuracy: 0.8057\n",
            "Epoch 104/110\n",
            "804/804 [==============================] - 3s 3ms/step - loss: 0.4084 - accuracy: 0.8047\n",
            "Epoch 105/110\n",
            "804/804 [==============================] - 2s 3ms/step - loss: 0.4085 - accuracy: 0.8052\n",
            "Epoch 106/110\n",
            "804/804 [==============================] - 2s 3ms/step - loss: 0.4089 - accuracy: 0.8044\n",
            "Epoch 107/110\n",
            "804/804 [==============================] - 2s 3ms/step - loss: 0.4081 - accuracy: 0.8051\n",
            "Epoch 108/110\n",
            "804/804 [==============================] - 2s 3ms/step - loss: 0.4083 - accuracy: 0.8048\n",
            "Epoch 109/110\n",
            "804/804 [==============================] - 2s 3ms/step - loss: 0.4082 - accuracy: 0.8047\n",
            "Epoch 110/110\n",
            "804/804 [==============================] - 2s 3ms/step - loss: 0.4081 - accuracy: 0.8045\n"
          ]
        }
      ],
      "source": [
        "# Train the model\n",
        "fit_model = nn.fit(X_train_scaled, y_train, epochs=110)"
      ]
    },
    {
      "cell_type": "code",
      "execution_count": 17,
      "metadata": {
        "colab": {
          "base_uri": "https://localhost:8080/"
        },
        "id": "N7Rc5HdAQfdR",
        "outputId": "aff8bc5b-d887-4d02-a9b4-76a47d4c3553"
      },
      "outputs": [
        {
          "name": "stdout",
          "output_type": "stream",
          "text": [
            "268/268 - 2s - loss: 0.4456 - accuracy: 0.7910 - 2s/epoch - 6ms/step\n",
            "Loss: 0.44557657837867737, Accuracy: 0.791020393371582\n"
          ]
        }
      ],
      "source": [
        "# Evaluate the model using the test data\n",
        "model_loss, model_accuracy = nn.evaluate(X_test_scaled,y_test,verbose=2)\n",
        "print(f\"Loss: {model_loss}, Accuracy: {model_accuracy}\")"
      ]
    },
    {
      "cell_type": "code",
      "execution_count": null,
      "metadata": {
        "colab": {
          "base_uri": "https://localhost:8080/"
        },
        "id": "3Zr3uCX8O9gQ",
        "outputId": "05c9b47d-367d-4ebe-86c1-0a51128f6da6"
      },
      "outputs": [
        {
          "name": "stderr",
          "output_type": "stream",
          "text": [
            "/Users/briannehan/anaconda3/lib/python3.11/site-packages/keras/src/engine/training.py:3103: UserWarning: You are saving your model as an HDF5 file via `model.save()`. This file format is considered legacy. We recommend using instead the native Keras format, e.g. `model.save('my_model.keras')`.\n",
            "  saving_api.save_model(\n"
          ]
        }
      ],
      "source": [
        "# Export our model to HDF5 file\n",
        "nn.save(\"AlphabetSoupCharity.h5\")"
      ]
    }
  ],
  "metadata": {
    "colab": {
      "provenance": []
    },
    "kernelspec": {
      "display_name": "Python 3",
      "language": "python",
      "name": "python3"
    },
    "language_info": {
      "codemirror_mode": {
        "name": "ipython",
        "version": 3
      },
      "file_extension": ".py",
      "mimetype": "text/x-python",
      "name": "python",
      "nbconvert_exporter": "python",
      "pygments_lexer": "ipython3",
      "version": "3.11.5"
    },
    "vscode": {
      "interpreter": {
        "hash": "31f2aee4e71d21fbe5cf8b01ff0e069b9275f58929596ceb00d14d90e3e16cd6"
      }
    }
  },
  "nbformat": 4,
  "nbformat_minor": 0
}
